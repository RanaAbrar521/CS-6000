{
  "nbformat": 4,
  "nbformat_minor": 0,
  "metadata": {
    "colab": {
      "provenance": [],
      "include_colab_link": true
    },
    "kernelspec": {
      "name": "python3",
      "display_name": "Python 3"
    },
    "language_info": {
      "name": "python"
    }
  },
  "cells": [
    {
      "cell_type": "markdown",
      "metadata": {
        "id": "view-in-github",
        "colab_type": "text"
      },
      "source": [
        "<a href=\"https://colab.research.google.com/github/RanaAbrar521/CS-6000/blob/main/M_Ibrar%20CS5160_L02.ipynb\" target=\"_parent\"><img src=\"https://colab.research.google.com/assets/colab-badge.svg\" alt=\"Open In Colab\"/></a>"
      ]
    },
    {
      "cell_type": "markdown",
      "source": [
        "**Goal: Learn about lists and how to work with elements in a list.**"
      ],
      "metadata": {
        "id": "65Mo4iafAw3k"
      }
    },
    {
      "cell_type": "markdown",
      "source": [
        "## What is a list?"
      ],
      "metadata": {
        "id": "X9IFQmzWA7eq"
      }
    },
    {
      "cell_type": "markdown",
      "source": [
        "A list is a collection of items in a particular order.\n",
        "\n",
        "Lists can include:\n",
        "- The letters of the alphabet (character)\n",
        "- The names of people (strings)\n",
        "- The digits from 0 to 9 (integers)\n",
        "\n",
        "You can put anything you want into a list. The items in you your list do have to be related in any particular way.\n",
        "\n",
        "**Lists are one of Python's most powerful features (data structure).**\n",
        "\n",
        "In Python, square brackets `[]` indicate a list, and elements in the list are separated by commas.\n",
        "\n",
        "It is important to note that since lists usually contain more than one element, we usually make the name of a list plural."
      ],
      "metadata": {
        "id": "eEp2vZGJB9uA"
      }
    },
    {
      "cell_type": "code",
      "source": [
        "bicycles = [\"trek\", \"cannondale\", \"redline\", \"specialized\"]\n",
        "print(bicycles)"
      ],
      "metadata": {
        "colab": {
          "base_uri": "https://localhost:8080/"
        },
        "id": "XNO-498BC6dd",
        "outputId": "252005fe-4516-4d90-a80e-fb5eb0d99d57"
      },
      "execution_count": null,
      "outputs": [
        {
          "output_type": "stream",
          "name": "stdout",
          "text": [
            "['trek', 'cannondale', 'redline', 'specialized']\n"
          ]
        }
      ]
    },
    {
      "cell_type": "markdown",
      "source": [
        "## How do I access a list?"
      ],
      "metadata": {
        "id": "bSwJjrQCDUUD"
      }
    },
    {
      "cell_type": "code",
      "source": [
        "bicycles = [\"trek\", \"cannondale\", \"redline\", \"specialized\"]\n",
        "print(bicycles[0])"
      ],
      "metadata": {
        "colab": {
          "base_uri": "https://localhost:8080/"
        },
        "id": "c59YaZjEDW_S",
        "outputId": "3a7ea0ac-bfb7-493f-bbb7-44c8ca078c6b"
      },
      "execution_count": null,
      "outputs": [
        {
          "output_type": "stream",
          "name": "stdout",
          "text": [
            "trek\n"
          ]
        }
      ]
    },
    {
      "cell_type": "code",
      "source": [
        "bicycles = [\"trek\", \"cannondale\", \"redline\", \"specialized\"]\n",
        "print(bicycles[0].title())"
      ],
      "metadata": {
        "colab": {
          "base_uri": "https://localhost:8080/"
        },
        "id": "30nsFuXDDvTM",
        "outputId": "78043552-abf2-4258-c1da-e3a0247d5a15"
      },
      "execution_count": null,
      "outputs": [
        {
          "output_type": "stream",
          "name": "stdout",
          "text": [
            "Trek\n"
          ]
        }
      ]
    },
    {
      "cell_type": "markdown",
      "source": [
        "## Why did we use 0 to index the first elements?"
      ],
      "metadata": {
        "id": "eXaUdOcYD6vi"
      }
    },
    {
      "cell_type": "code",
      "source": [
        "bicycles = [\"trek\", \"cannondale\", \"redline\", \"specialized\"]\n",
        "print(bicycles[0]) # first element\n",
        "print(bicycles[1]) # second element\n",
        "print(bicycles[2]) # third elements\n",
        "print(bicycles[3]) # fourth element"
      ],
      "metadata": {
        "colab": {
          "base_uri": "https://localhost:8080/"
        },
        "id": "MKWjgQqYD-51",
        "outputId": "9ae8b93a-6e44-4ae6-d657-c8d9349babdd"
      },
      "execution_count": null,
      "outputs": [
        {
          "output_type": "stream",
          "name": "stdout",
          "text": [
            "trek\n",
            "cannondale\n",
            "redline\n",
            "specialized\n"
          ]
        }
      ]
    },
    {
      "cell_type": "code",
      "source": [
        "bicycles = [\"trek\", \"cannondale\", \"redline\", \"specialized\"]\n",
        "print(bicycles[-1]) # fourth element\n",
        "print(bicycles[-2]) # third element\n",
        "print(bicycles[-3]) # second elements\n",
        "print(bicycles[-4]) # first element"
      ],
      "metadata": {
        "colab": {
          "base_uri": "https://localhost:8080/"
        },
        "id": "WZ3zBEDoEVJM",
        "outputId": "6c6e7559-f201-46fd-9781-38514653d37e"
      },
      "execution_count": null,
      "outputs": [
        {
          "output_type": "stream",
          "name": "stdout",
          "text": [
            "specialized\n",
            "redline\n",
            "cannondale\n",
            "trek\n"
          ]
        }
      ]
    },
    {
      "cell_type": "markdown",
      "source": [
        "## Can I use individual elements just as I would any other variable?"
      ],
      "metadata": {
        "id": "yRTeqy03Euhk"
      }
    },
    {
      "cell_type": "code",
      "source": [
        "bicycles = [\"trek\", \"cannondale\", \"redline\", \"specialized\"]\n",
        "message = f\"My first bicycle was a {bicycles[0].title()}.\"\n",
        "print(message)"
      ],
      "metadata": {
        "colab": {
          "base_uri": "https://localhost:8080/"
        },
        "id": "spQWFq7eEznK",
        "outputId": "5a15d82e-164a-4524-d272-d20b4dac2c9e"
      },
      "execution_count": null,
      "outputs": [
        {
          "output_type": "stream",
          "name": "stdout",
          "text": [
            "My first bicycle was a Trek.\n"
          ]
        }
      ]
    },
    {
      "cell_type": "markdown",
      "source": [
        "## Can I modify elements in a list?"
      ],
      "metadata": {
        "id": "lQ6gdZAGFA5T"
      }
    },
    {
      "cell_type": "code",
      "source": [
        "motorcycles = [\"honda\", \"yamaha\", \"suzuki\"]\n",
        "print(motorcycles)\n",
        "\n",
        "motorcycles[0] = \"ducati\"\n",
        "print(motorcycles)"
      ],
      "metadata": {
        "colab": {
          "base_uri": "https://localhost:8080/"
        },
        "id": "zPuUpnYbFEZq",
        "outputId": "18d0015b-b761-4a59-f382-4d41162fe66f"
      },
      "execution_count": null,
      "outputs": [
        {
          "output_type": "stream",
          "name": "stdout",
          "text": [
            "['honda', 'yamaha', 'suzuki']\n",
            "['ducati', 'yamaha', 'suzuki']\n"
          ]
        }
      ]
    },
    {
      "cell_type": "markdown",
      "source": [
        "## Can I add elements to a list?"
      ],
      "metadata": {
        "id": "mUqoH8NGFcW1"
      }
    },
    {
      "cell_type": "code",
      "source": [
        "motorcycles = [\"honda\", \"yamaha\", \"suzuki\"]\n",
        "print(motorcycles)\n",
        "\n",
        "motorcycles.append(\"ducati\")\n",
        "print(motorcycles)"
      ],
      "metadata": {
        "colab": {
          "base_uri": "https://localhost:8080/"
        },
        "id": "h3qarhx8FevC",
        "outputId": "e51f5e98-e057-48fd-99f5-3cac2969359c"
      },
      "execution_count": null,
      "outputs": [
        {
          "output_type": "stream",
          "name": "stdout",
          "text": [
            "['honda', 'yamaha', 'suzuki']\n",
            "['honda', 'yamaha', 'suzuki', 'ducati']\n"
          ]
        }
      ]
    },
    {
      "cell_type": "code",
      "source": [
        "motorcycles = []\n",
        "print(motorcycles)\n",
        "\n",
        "motorcycles.append(\"honda\")\n",
        "print(motorcycles)\n",
        "\n",
        "motorcycles.append(\"yamaha\")\n",
        "print(motorcycles)\n",
        "\n",
        "motorcycles.append(\"suzuki\")\n",
        "print(motorcycles)"
      ],
      "metadata": {
        "colab": {
          "base_uri": "https://localhost:8080/"
        },
        "id": "44CyhP2ZF1cD",
        "outputId": "3d655673-8563-4cd0-fc30-b7433046ac43"
      },
      "execution_count": null,
      "outputs": [
        {
          "output_type": "stream",
          "name": "stdout",
          "text": [
            "[]\n",
            "['honda']\n",
            "['honda', 'yamaha']\n",
            "['honda', 'yamaha', 'suzuki']\n"
          ]
        }
      ]
    },
    {
      "cell_type": "code",
      "source": [
        "motorcycles = [\"honda\", \"yamaha\", \"suzuki\"]\n",
        "print(motorcycles)\n",
        "\n",
        "motorcycles.insert(0, \"ducati\")\n",
        "print(motorcycles)"
      ],
      "metadata": {
        "colab": {
          "base_uri": "https://localhost:8080/"
        },
        "id": "JR1b9cCtGOIn",
        "outputId": "8ab519a8-24ba-458c-aded-c95bc7a734f7"
      },
      "execution_count": null,
      "outputs": [
        {
          "output_type": "stream",
          "name": "stdout",
          "text": [
            "['honda', 'yamaha', 'suzuki']\n",
            "['ducati', 'honda', 'yamaha', 'suzuki']\n"
          ]
        }
      ]
    },
    {
      "cell_type": "code",
      "source": [
        "motorcycles = [\"honda\", \"yamaha\", \"suzuki\"]\n",
        "print(motorcycles)\n",
        "\n",
        "motorcycles.insert(1, \"ducati\")\n",
        "print(motorcycles)"
      ],
      "metadata": {
        "colab": {
          "base_uri": "https://localhost:8080/"
        },
        "id": "pJVddEamGjCm",
        "outputId": "add64844-3a4e-4657-cd9c-0fbd6aa9d3be"
      },
      "execution_count": null,
      "outputs": [
        {
          "output_type": "stream",
          "name": "stdout",
          "text": [
            "['honda', 'yamaha', 'suzuki']\n",
            "['honda', 'ducati', 'yamaha', 'suzuki']\n"
          ]
        }
      ]
    },
    {
      "cell_type": "markdown",
      "source": [
        "## Can I remove elements from a list?"
      ],
      "metadata": {
        "id": "uuxi-vkRGzH6"
      }
    },
    {
      "cell_type": "code",
      "source": [
        "motorcycles = [\"honda\", \"yamaha\", \"suzuki\"]\n",
        "print(motorcycles)\n",
        "\n",
        "del motorcycles[0]\n",
        "print(motorcycles)"
      ],
      "metadata": {
        "colab": {
          "base_uri": "https://localhost:8080/"
        },
        "id": "iFk0hd3KG3OE",
        "outputId": "b5f5ef64-b04f-435e-9e17-72116f279a22"
      },
      "execution_count": null,
      "outputs": [
        {
          "output_type": "stream",
          "name": "stdout",
          "text": [
            "['honda', 'yamaha', 'suzuki']\n",
            "['yamaha', 'suzuki']\n"
          ]
        }
      ]
    },
    {
      "cell_type": "code",
      "source": [
        "motorcycles = [\"honda\", \"yamaha\", \"suzuki\"]\n",
        "print(motorcycles)\n",
        "\n",
        "del motorcycles[1]\n",
        "print(motorcycles)"
      ],
      "metadata": {
        "colab": {
          "base_uri": "https://localhost:8080/"
        },
        "id": "-0VsqGXPHC7s",
        "outputId": "d39355f0-0434-4543-e61b-518f04a06ca2"
      },
      "execution_count": null,
      "outputs": [
        {
          "output_type": "stream",
          "name": "stdout",
          "text": [
            "['honda', 'yamaha', 'suzuki']\n",
            "['honda', 'suzuki']\n"
          ]
        }
      ]
    },
    {
      "cell_type": "code",
      "source": [
        "motorcycles = [\"honda\", \"yamaha\", \"suzuki\"]\n",
        "print(motorcycles)\n",
        "\n",
        "popped_motorcyle = motorcycles.pop()\n",
        "print(motorcycles)\n",
        "print(popped_motorcyle)"
      ],
      "metadata": {
        "colab": {
          "base_uri": "https://localhost:8080/"
        },
        "id": "uNWMDVZXHHHj",
        "outputId": "b67b468a-d598-4a16-e634-56e7fe824647"
      },
      "execution_count": null,
      "outputs": [
        {
          "output_type": "stream",
          "name": "stdout",
          "text": [
            "['honda', 'yamaha', 'suzuki']\n",
            "['honda', 'yamaha']\n",
            "suzuki\n"
          ]
        }
      ]
    },
    {
      "cell_type": "code",
      "source": [
        "motorcycles = [\"honda\", \"yamaha\", \"suzuki\"]\n",
        "print(motorcycles)\n",
        "\n",
        "last_owned = motorcycles.pop()\n",
        "print(f\"The last  motorcycle I owned was a {last_owned.title()}.\")"
      ],
      "metadata": {
        "colab": {
          "base_uri": "https://localhost:8080/"
        },
        "id": "tbi7SR_BH3sX",
        "outputId": "8ea60940-1b2a-4c6e-cfb1-a6d5b4f7a52a"
      },
      "execution_count": null,
      "outputs": [
        {
          "output_type": "stream",
          "name": "stdout",
          "text": [
            "['honda', 'yamaha', 'suzuki']\n",
            "The last  motorcycle I owned was a Suzuki.\n"
          ]
        }
      ]
    },
    {
      "cell_type": "code",
      "source": [
        "motorcycles = [\"honda\", \"yamaha\", \"suzuki\"]\n",
        "print(motorcycles)\n",
        "\n",
        "first_owned = motorcycles.pop(0)\n",
        "print(f\"The first motorcycle I owned was a {first_owned.title()}.\")"
      ],
      "metadata": {
        "colab": {
          "base_uri": "https://localhost:8080/"
        },
        "id": "dPHYTMnYIPPF",
        "outputId": "a642f266-94a8-43df-fe12-d588f3490daa"
      },
      "execution_count": null,
      "outputs": [
        {
          "output_type": "stream",
          "name": "stdout",
          "text": [
            "['honda', 'yamaha', 'suzuki']\n",
            "The first motorcycle I owned was a Honda.\n"
          ]
        }
      ]
    },
    {
      "cell_type": "code",
      "source": [
        "motorcycles = [\"honda\", \"yamaha\", \"suzuki\", \"ducati\"]\n",
        "print(motorcycles)\n",
        "\n",
        "motorcycles.remove(\"ducati\")\n",
        "print(motorcycles)"
      ],
      "metadata": {
        "colab": {
          "base_uri": "https://localhost:8080/"
        },
        "id": "t7caW6YEIbl-",
        "outputId": "7964a46e-8966-4ef1-d74a-010d4c0e7cdc"
      },
      "execution_count": null,
      "outputs": [
        {
          "output_type": "stream",
          "name": "stdout",
          "text": [
            "['honda', 'yamaha', 'suzuki', 'ducati']\n",
            "['honda', 'yamaha', 'suzuki']\n"
          ]
        }
      ]
    },
    {
      "cell_type": "code",
      "source": [
        "motorcycles = [\"honda\", \"yamaha\", \"suzuki\", \"ducati\"]\n",
        "print(motorcycles)\n",
        "\n",
        "too_expensive = \"ducati\"\n",
        "motorcycles.remove(too_expensive)\n",
        "print(motorcycles)\n",
        "print(f\"A {too_expensive.title()} is too expensive for me.\")"
      ],
      "metadata": {
        "colab": {
          "base_uri": "https://localhost:8080/"
        },
        "id": "jnfloIEqI4Te",
        "outputId": "f43b88bf-21ce-480c-e16c-e782c352f1ed"
      },
      "execution_count": null,
      "outputs": [
        {
          "output_type": "stream",
          "name": "stdout",
          "text": [
            "['honda', 'yamaha', 'suzuki', 'ducati']\n",
            "['honda', 'yamaha', 'suzuki']\n",
            "A Ducati is too expensive for me.\n"
          ]
        }
      ]
    },
    {
      "cell_type": "markdown",
      "source": [
        "## Can I sort a list?"
      ],
      "metadata": {
        "id": "Gh36stkPJSo-"
      }
    },
    {
      "cell_type": "code",
      "source": [
        "cars = [\"bmw\", \"audi\", \"toyota\", \"subaru\"]\n",
        "cars.sort()\n",
        "print(cars)"
      ],
      "metadata": {
        "colab": {
          "base_uri": "https://localhost:8080/"
        },
        "id": "bIHOeB0wJU-l",
        "outputId": "d12293eb-2594-4ee1-f79c-84fc799b43a8"
      },
      "execution_count": null,
      "outputs": [
        {
          "output_type": "stream",
          "name": "stdout",
          "text": [
            "['audi', 'bmw', 'subaru', 'toyota']\n"
          ]
        }
      ]
    },
    {
      "cell_type": "code",
      "source": [
        "cars = [\"bmw\", \"audi\", \"toyota\", \"subaru\"]\n",
        "cars.sort(reverse=True)\n",
        "print(cars)"
      ],
      "metadata": {
        "colab": {
          "base_uri": "https://localhost:8080/"
        },
        "id": "bSv6zSz-Jo1N",
        "outputId": "d9f88c2d-7030-46b8-ca7e-ef4ddaa033fd"
      },
      "execution_count": null,
      "outputs": [
        {
          "output_type": "stream",
          "name": "stdout",
          "text": [
            "['toyota', 'subaru', 'bmw', 'audi']\n"
          ]
        }
      ]
    },
    {
      "cell_type": "code",
      "source": [
        "cars = [\"bmw\", \"audi\", \"toyota\", \"subaru\"]\n",
        "\n",
        "print(\"Original List:\")\n",
        "print(cars)\n",
        "\n",
        "print(\"Sorted List:\")\n",
        "print(sorted(cars))\n",
        "\n",
        "print(\"Original List (Again):\")\n",
        "print(cars)"
      ],
      "metadata": {
        "colab": {
          "base_uri": "https://localhost:8080/"
        },
        "id": "dGUy83OCJ9_9",
        "outputId": "0db12363-c2fd-4cf9-f2bb-4885d88a9984"
      },
      "execution_count": null,
      "outputs": [
        {
          "output_type": "stream",
          "name": "stdout",
          "text": [
            "Original List:\n",
            "['bmw', 'audi', 'toyota', 'subaru']\n",
            "Sorted List:\n",
            "['audi', 'bmw', 'subaru', 'toyota']\n",
            "Original List (Again):\n",
            "['bmw', 'audi', 'toyota', 'subaru']\n"
          ]
        }
      ]
    },
    {
      "cell_type": "code",
      "source": [
        "cars = [\"bmw\", \"audi\", \"toyota\", \"subaru\"]\n",
        "print(cars)\n",
        "\n",
        "cars.reverse()\n",
        "print(cars)"
      ],
      "metadata": {
        "colab": {
          "base_uri": "https://localhost:8080/"
        },
        "id": "ZQ1vjbaIKdkn",
        "outputId": "80b53c15-e2d2-4b2e-f313-2f51ab436a1c"
      },
      "execution_count": null,
      "outputs": [
        {
          "output_type": "stream",
          "name": "stdout",
          "text": [
            "['bmw', 'audi', 'toyota', 'subaru']\n",
            "['subaru', 'toyota', 'audi', 'bmw']\n"
          ]
        }
      ]
    },
    {
      "cell_type": "markdown",
      "source": [
        "## Can I find the length of list?"
      ],
      "metadata": {
        "id": "OgKnTNFhLjN1"
      }
    },
    {
      "cell_type": "code",
      "source": [
        "cars = [\"bmw\", \"audi\", \"toyota\", \"subaru\"]\n",
        "print(len(cars))"
      ],
      "metadata": {
        "colab": {
          "base_uri": "https://localhost:8080/"
        },
        "id": "ljxbgRjNLmUl",
        "outputId": "0480833a-5228-42bd-a4c0-e3e81d2440e6"
      },
      "execution_count": null,
      "outputs": [
        {
          "output_type": "stream",
          "name": "stdout",
          "text": [
            "4\n"
          ]
        }
      ]
    },
    {
      "cell_type": "code",
      "source": [
        "cars = [\"bmw\", \"audi\", \"toyota\", \"subaru\"]\n",
        "length_cars = len(cars)\n",
        "print(type(length_cars))"
      ],
      "metadata": {
        "colab": {
          "base_uri": "https://localhost:8080/"
        },
        "id": "OVZkSDcDMJqt",
        "outputId": "2fb7bd02-387f-4a11-bfba-bc5ad96ccd89"
      },
      "execution_count": null,
      "outputs": [
        {
          "output_type": "stream",
          "name": "stdout",
          "text": [
            "<class 'int'>\n"
          ]
        }
      ]
    },
    {
      "cell_type": "markdown",
      "source": [
        "## What errors should I expect when working with lists?"
      ],
      "metadata": {
        "id": "QLI6t3FjMb45"
      }
    },
    {
      "cell_type": "code",
      "source": [
        "cars = [\"bmw\", \"audi\", \"toyota\", \"subaru\"]\n",
        "# print(cars[4])"
      ],
      "metadata": {
        "id": "K8FlvcdEMgIO"
      },
      "execution_count": null,
      "outputs": []
    },
    {
      "cell_type": "code",
      "source": [
        "cars = [\"bmw\", \"audi\", \"toyota\", \"subaru\"]\n",
        "print(cars[-1])"
      ],
      "metadata": {
        "colab": {
          "base_uri": "https://localhost:8080/"
        },
        "id": "HchY0sAVNXf4",
        "outputId": "5227cb0a-e655-49bb-ade2-2d5ebf453bea"
      },
      "execution_count": null,
      "outputs": [
        {
          "output_type": "stream",
          "name": "stdout",
          "text": [
            "subaru\n"
          ]
        }
      ]
    },
    {
      "cell_type": "code",
      "source": [
        "cars = []\n",
        "# print(cars[-1])"
      ],
      "metadata": {
        "id": "13PbSOFSNG-_"
      },
      "execution_count": null,
      "outputs": []
    },
    {
      "cell_type": "markdown",
      "source": [
        "## Are there more list methods?"
      ],
      "metadata": {
        "id": "lLbRe6dxNb7u"
      }
    },
    {
      "cell_type": "markdown",
      "source": [
        "Python List Methods: https://docs.python.org/3/tutorial/datastructures.html"
      ],
      "metadata": {
        "id": "72AdrTCZNeSW"
      }
    }
  ]
}